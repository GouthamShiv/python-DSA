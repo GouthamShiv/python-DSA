{
 "cells": [
  {
   "attachments": {},
   "cell_type": "markdown",
   "metadata": {},
   "source": [
    "# Data Structures and Algorithms - Python\n",
    "\n",
    "## Index\n",
    "\n",
    "> [01 - Python Basics](./01-python-fundamentals/00-index.ipynb)\n",
    "- [Variables](./01-python-fundamentals/01-variables.ipynb)\n",
    "- [Operators](./01-python-fundamentals/02-operators.ipynb)\n",
    "- [Collections](./01-python-fundamentals/03-collections.ipynb)\n",
    "- [Conditions](./01-python-fundamentals/04-conditions.ipynb)\n",
    "- [Loops](./01-python-fundamentals/05-loops.ipynb)\n",
    "- [Functions](./01-python-fundamentals/06-functions.ipynb)\n",
    "- [Classes and Objects](./01-python-fundamentals/07-classes-and-objects.ipynb)\n",
    "- [Modules](./01-python-fundamentals/08-modules.ipynb)\n",
    "> [02 - Analysis of Algorithms](./02-algorithm-analysis/00-index.ipynb)\n",
    "- [Time Complexity](./02-algorithm-analysis/01-time-complexity.ipynb)\n",
    "\n",
    "---\n",
    "[next](./01-python-fundamentals/00-index.ipynb)"
   ]
  }
 ],
 "metadata": {
  "kernelspec": {
   "display_name": "base",
   "language": "python",
   "name": "python3"
  },
  "language_info": {
   "name": "python",
   "version": "3.10.9"
  },
  "orig_nbformat": 4
 },
 "nbformat": 4,
 "nbformat_minor": 2
}
