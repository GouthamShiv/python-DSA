{
 "cells": [
  {
   "attachments": {},
   "cell_type": "markdown",
   "metadata": {},
   "source": [
    "[back](../01-python-fundamentals/08-modules.ipynb)\n",
    "\n",
    "---\n",
    "# `Analysis of Algorithms`\n",
    "\n",
    "The measuring of **goodness** of an algorithm or a data structure.\n",
    "\n",
    "- [Time Complexity](./01-time-complexity.ipynb)\n",
    "\n",
    "---\n",
    "[next](./01-time-complexity.ipynb)"
   ]
  }
 ],
 "metadata": {
  "language_info": {
   "name": "python"
  },
  "orig_nbformat": 4
 },
 "nbformat": 4,
 "nbformat_minor": 2
}
